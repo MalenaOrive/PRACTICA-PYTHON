{
 "cells": [
  {
   "cell_type": "markdown",
   "metadata": {},
   "source": [
    "# PRACTICA Expresiones Regulares\n",
    "\n",
    "#### Esta práctica se entrega el día 22 de Octubre a las 23:59\n",
    "#### Cuenta el 5% de la nota\n",
    "\n",
    "#### De la lista de accessions que se proporciona obtén lo siguiente:\n",
    "1. Los que tengan el número 5\n",
    "2. Los que tengan la letra 'd' o la 'e'\n",
    "3. Los que tengan las letras 'd' y 'e' en ese orden\n",
    "4. Los que tengan las letras 'd' y 'e' en ese orden con una letra cualquiera en medio\n",
    "5. Los que tengan ambas letras 'd' y 'e' en cualquier orden\n",
    "6. Los que empiezan por 'x' o por 'y'\n",
    "7. Los que empiezan por 'x' o 'y' y terminan por 'e'\n",
    "8. Los que tienen tres o más dígitos seguidos\n",
    "9. Los que terminan con 'd' seguidos de 'a' o 'r' o 'p'"
   ]
  },
  {
   "cell_type": "code",
   "execution_count": 1,
   "metadata": {},
   "outputs": [],
   "source": [
    "import re"
   ]
  },
  {
   "cell_type": "code",
   "execution_count": 2,
   "metadata": {},
   "outputs": [],
   "source": [
    "accs = ['xkn59438', 'yhdck2', 'eihd39d9', 'chdsye847', 'hedle3455', 'xjhd53e', '45da', 'de37dp']"
   ]
  },
  {
   "cell_type": "code",
   "execution_count": 3,
   "metadata": {
    "scrolled": true
   },
   "outputs": [
    {
     "name": "stdout",
     "output_type": "stream",
     "text": [
      "xkn59438\n",
      "hedle3455\n",
      "xjhd53e\n",
      "45da\n"
     ]
    }
   ],
   "source": [
    "## 1.Los que tengan el número 5\n",
    "#para hacer expresiones regulares: re.search (r\"5\",accs)--> le indicamos a python el formato donde buscamos los parones\n",
    "# al tener uan lista python no sabe donde buscar. le debemos indicar que debe leer por elementos\n",
    "# para cada elemento en esta lista, busca los que tienen 5, si hay imprime elemento\n",
    "for elemento in accs: \n",
    "    re.search(r\"5\",elemento)\n",
    "    if re.search(r\"5\",elemento):\n",
    "        print(elemento)\n"
   ]
  },
  {
   "cell_type": "code",
   "execution_count": 4,
   "metadata": {},
   "outputs": [
    {
     "name": "stdout",
     "output_type": "stream",
     "text": [
      "\txkn59438\n",
      "\thedle3455\n",
      "\txjhd53e\n",
      "\t45da\n"
     ]
    }
   ],
   "source": [
    "# para que lo imprima en tabulador\n",
    "for elemento in accs: \n",
    "    re.search(r\"5\",elemento)\n",
    "    if re.search(r\"5\",elemento):\n",
    "        print(\"\\t\" + elemento)\n"
   ]
  },
  {
   "cell_type": "code",
   "execution_count": 5,
   "metadata": {
    "scrolled": true
   },
   "outputs": [
    {
     "name": "stdout",
     "output_type": "stream",
     "text": [
      "contains d or e\n",
      "\tyhdck2\n",
      "\teihd39d9\n",
      "\tchdsye847\n",
      "\thedle3455\n",
      "\txjhd53e\n",
      "\t45da\n",
      "\tde37dp\n"
     ]
    }
   ],
   "source": [
    "## 2. Los que tengan la letra 'd' o la 'e'\n",
    "#primera opcion\n",
    "print(\"contains d or e\")\n",
    "for acc in accs: \n",
    "    if re.search(r\"d\", acc) or re.search(r\"e\",acc):\n",
    "        print (\"\\t\" + acc)"
   ]
  },
  {
   "cell_type": "code",
   "execution_count": 14,
   "metadata": {},
   "outputs": [
    {
     "name": "stdout",
     "output_type": "stream",
     "text": [
      "contains d or e\n",
      "\tyhdck2\n",
      "\teihd39d9\n",
      "\tchdsye847\n",
      "\thedle3455\n",
      "\txjhd53e\n",
      "\t45da\n",
      "\tde37dp\n"
     ]
    }
   ],
   "source": [
    "#segunda opcion\n",
    "print(\"contains d or e\")\n",
    "for acc in accs: \n",
    "    if re.search(r\"d|e\", acc):\n",
    "        print (\"\\t\" + acc)"
   ]
  },
  {
   "cell_type": "code",
   "execution_count": 17,
   "metadata": {
    "scrolled": true
   },
   "outputs": [
    {
     "name": "stdout",
     "output_type": "stream",
     "text": [
      "contains d and e\n",
      "\tchdsye847\n",
      "\thedle3455\n",
      "\txjhd53e\n",
      "\tde37dp\n"
     ]
    }
   ],
   "source": [
    "## 3.Los que tengan las letras 'd' y 'e' en ese orden\n",
    "#primera forma\n",
    "print (\"contains d and e\")\n",
    "for acc in accs: \n",
    "    if re.search(r\"d.*e\", acc):\n",
    "        print(\"\\t\" + acc)"
   ]
  },
  {
   "cell_type": "code",
   "execution_count": null,
   "metadata": {},
   "outputs": [],
   "source": [
    "# and --> se podría hacer pero debemos añadir un comando que determine el orden exacto"
   ]
  },
  {
   "cell_type": "code",
   "execution_count": 20,
   "metadata": {},
   "outputs": [
    {
     "name": "stdout",
     "output_type": "stream",
     "text": [
      "\tchdsye847\n"
     ]
    }
   ],
   "source": [
    "## 4.Los que tengan las letras 'd' y 'e' en ese orden con una letra cualquiera en medio\n",
    "# el punto sirva para cualquier caracter (nº y letras, para que sean letras [a-z])\n",
    "for acc in accs: \n",
    "    if re.search(r\"(d[a-z].e)\", acc):\n",
    "        print (\"\\t\" + acc)\n",
    "        \n"
   ]
  },
  {
   "cell_type": "code",
   "execution_count": 23,
   "metadata": {
    "scrolled": true
   },
   "outputs": [
    {
     "name": "stdout",
     "output_type": "stream",
     "text": [
      "contains d or e in any order\n",
      "\teihd39d9\n",
      "\tchdsye847\n",
      "\thedle3455\n",
      "\txjhd53e\n",
      "\tde37dp\n"
     ]
    }
   ],
   "source": [
    "## 5.Los que tengan ambas letras 'd' y 'e' en cualquier orden\n",
    "#primera forma\n",
    "print(\"contains d or e in any order\")\n",
    "for acc in accs: \n",
    "    if re.search(r\"d\", acc) and re.search(r\"e\",acc):\n",
    "        print (\"\\t\" + acc)"
   ]
  },
  {
   "cell_type": "code",
   "execution_count": 24,
   "metadata": {
    "scrolled": true
   },
   "outputs": [
    {
     "name": "stdout",
     "output_type": "stream",
     "text": [
      "\teihd39d9\n",
      "\thedle3455\n",
      "\tde37dp\n"
     ]
    }
   ],
   "source": [
    "#segunda forma\n",
    "for acc in accs: \n",
    "    if re.search(r\"d.e\", acc) or re.search(r\"e.*d\", acc):\n",
    "        print(\"\\t\" + acc)"
   ]
  },
  {
   "cell_type": "code",
   "execution_count": 30,
   "metadata": {
    "scrolled": false
   },
   "outputs": [
    {
     "name": "stdout",
     "output_type": "stream",
     "text": [
      "starts with either x or y:\n",
      "\txkn59438\n",
      "\tyhdck2\n",
      "\txjhd53e\n"
     ]
    }
   ],
   "source": [
    "## 6.Los que empiezan por 'x' o por 'y' \n",
    "# ^ = empezar\n",
    "print(\"starts with either x or y:\")\n",
    "for acc in accs: \n",
    "          if re.search(r\"^(x|y)\", acc):\n",
    "                  print(\"\\t\" + acc)"
   ]
  },
  {
   "cell_type": "code",
   "execution_count": 32,
   "metadata": {
    "scrolled": true
   },
   "outputs": [
    {
     "name": "stdout",
     "output_type": "stream",
     "text": [
      "starts with either x or y and end with e:\n",
      "\txjhd53e\n"
     ]
    }
   ],
   "source": [
    "## 7. Los que empiezan por 'x' o 'y' y terminan por 'e'\n",
    "print (\"starts with either x or y and end with e:\")\n",
    "for acc in accs: \n",
    "    if re.search(r\"^(x|y).*e$\", acc):\n",
    "        print (\"\\t\" + acc)"
   ]
  },
  {
   "cell_type": "code",
   "execution_count": 34,
   "metadata": {
    "scrolled": true
   },
   "outputs": [
    {
     "name": "stdout",
     "output_type": "stream",
     "text": [
      "contains three or more numbers in a row:\n",
      "\txkn59438\n",
      "\tchdsye847\n",
      "\thedle3455\n"
     ]
    }
   ],
   "source": [
    "## 8. Los que tienen tres o más dígitos seguidos\n",
    "print(\"contains three or more numbers in a row:\")\n",
    "for acc in accs: \n",
    "    if re.search(r\"\\d{3}\", acc):\n",
    "        print(\"\\t\" + acc)\n",
    "        "
   ]
  },
  {
   "cell_type": "code",
   "execution_count": 35,
   "metadata": {},
   "outputs": [
    {
     "name": "stdout",
     "output_type": "stream",
     "text": [
      "ends with d followed by either a,r or p\n",
      "\t45da\n",
      "\tde37dp\n"
     ]
    }
   ],
   "source": [
    "## 9. Los que terminan con 'd' seguidos de 'a' o 'r' o 'p'\n",
    "print(\"ends with d followed by either a,r or p\")\n",
    "for acc in accs: \n",
    "    if re.search(r\"d[arp]$\", acc):\n",
    "        print(\"\\t\" + acc)\n",
    "        "
   ]
  }
 ],
 "metadata": {
  "kernelspec": {
   "display_name": "Python 3 (ipykernel)",
   "language": "python",
   "name": "python3"
  },
  "language_info": {
   "codemirror_mode": {
    "name": "ipython",
    "version": 3
   },
   "file_extension": ".py",
   "mimetype": "text/x-python",
   "name": "python",
   "nbconvert_exporter": "python",
   "pygments_lexer": "ipython3",
   "version": "3.11.4"
  }
 },
 "nbformat": 4,
 "nbformat_minor": 4
}
